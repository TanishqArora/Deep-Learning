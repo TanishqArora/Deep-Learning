{
 "cells": [
  {
   "cell_type": "code",
   "execution_count": 1,
   "id": "4a852119",
   "metadata": {},
   "outputs": [],
   "source": [
    "import numpy as np\n",
    "import pandas as pd\n",
    "import tensorflow as tf\n",
    "from tensorflow import keras\n",
    "from PIL import Image\n",
    "from numpy import asarray\n",
    "from tensorflow.keras import layers\n",
    "from tensorflow.keras import Sequential\n",
    "import cv2\n",
    "from sklearn.model_selection import train_test_split"
   ]
  },
  {
   "cell_type": "code",
   "execution_count": 2,
   "id": "5b83dfd3",
   "metadata": {},
   "outputs": [],
   "source": [
    "df = pd.read_csv('E://Tanishq//csv files//ship_dataset//train/train.csv')"
   ]
  },
  {
   "cell_type": "code",
   "execution_count": 3,
   "id": "378f60f8",
   "metadata": {},
   "outputs": [
    {
     "data": {
      "text/html": [
       "<div>\n",
       "<style scoped>\n",
       "    .dataframe tbody tr th:only-of-type {\n",
       "        vertical-align: middle;\n",
       "    }\n",
       "\n",
       "    .dataframe tbody tr th {\n",
       "        vertical-align: top;\n",
       "    }\n",
       "\n",
       "    .dataframe thead th {\n",
       "        text-align: right;\n",
       "    }\n",
       "</style>\n",
       "<table border=\"1\" class=\"dataframe\">\n",
       "  <thead>\n",
       "    <tr style=\"text-align: right;\">\n",
       "      <th></th>\n",
       "      <th>image</th>\n",
       "      <th>category</th>\n",
       "    </tr>\n",
       "  </thead>\n",
       "  <tbody>\n",
       "    <tr>\n",
       "      <th>0</th>\n",
       "      <td>2823080.jpg</td>\n",
       "      <td>1</td>\n",
       "    </tr>\n",
       "    <tr>\n",
       "      <th>1</th>\n",
       "      <td>2870024.jpg</td>\n",
       "      <td>1</td>\n",
       "    </tr>\n",
       "    <tr>\n",
       "      <th>2</th>\n",
       "      <td>2662125.jpg</td>\n",
       "      <td>2</td>\n",
       "    </tr>\n",
       "    <tr>\n",
       "      <th>3</th>\n",
       "      <td>2900420.jpg</td>\n",
       "      <td>3</td>\n",
       "    </tr>\n",
       "    <tr>\n",
       "      <th>4</th>\n",
       "      <td>2804883.jpg</td>\n",
       "      <td>2</td>\n",
       "    </tr>\n",
       "  </tbody>\n",
       "</table>\n",
       "</div>"
      ],
      "text/plain": [
       "         image  category\n",
       "0  2823080.jpg         1\n",
       "1  2870024.jpg         1\n",
       "2  2662125.jpg         2\n",
       "3  2900420.jpg         3\n",
       "4  2804883.jpg         2"
      ]
     },
     "execution_count": 3,
     "metadata": {},
     "output_type": "execute_result"
    }
   ],
   "source": [
    "df.head()"
   ]
  },
  {
   "cell_type": "code",
   "execution_count": 4,
   "id": "26379cdc",
   "metadata": {
    "scrolled": false
   },
   "outputs": [
    {
     "data": {
      "text/plain": [
       "(146, 210)"
      ]
     },
     "execution_count": 4,
     "metadata": {},
     "output_type": "execute_result"
    }
   ],
   "source": [
    "image = Image.open('E://Tanishq//csv files//ship_dataset//train//images//299281.jpg')\n",
    "numpydata = asarray(image)\n",
    "numpydata.shape"
   ]
  },
  {
   "cell_type": "code",
   "execution_count": 5,
   "id": "a66b32db",
   "metadata": {},
   "outputs": [],
   "source": [
    "X = []\n",
    "y = []\n",
    "\n",
    "for i in range(len(df)):\n",
    "    image = cv2.imread('E://Tanishq//csv files//ship_dataset//train//images//' + str(df['image'][i]))\n",
    "    X.append(cv2.resize(image,(180,180)))\n",
    "    y.append(df['category'][i])"
   ]
  },
  {
   "cell_type": "code",
   "execution_count": 6,
   "id": "974a173a",
   "metadata": {},
   "outputs": [],
   "source": [
    "y1 = np.array(y)\n",
    "y1 = y1 -1"
   ]
  },
  {
   "cell_type": "code",
   "execution_count": 7,
   "id": "e0b95448",
   "metadata": {},
   "outputs": [],
   "source": [
    "X1 = np.array(X)"
   ]
  },
  {
   "cell_type": "code",
   "execution_count": 8,
   "id": "c568a7c9",
   "metadata": {},
   "outputs": [
    {
     "data": {
      "text/plain": [
       "(180, 180, 3)"
      ]
     },
     "execution_count": 8,
     "metadata": {},
     "output_type": "execute_result"
    }
   ],
   "source": [
    "X1[0].shape"
   ]
  },
  {
   "cell_type": "code",
   "execution_count": 9,
   "id": "6f97e856",
   "metadata": {},
   "outputs": [],
   "source": [
    "X_train,X_test, y_train,y_test = train_test_split(X1,y1,random_state = 0)"
   ]
  },
  {
   "cell_type": "code",
   "execution_count": 10,
   "id": "3b3f3467",
   "metadata": {},
   "outputs": [],
   "source": [
    "X_train_scaled = X_train/255\n",
    "X_test_scaled = X_test/255"
   ]
  },
  {
   "cell_type": "code",
   "execution_count": 11,
   "id": "e7dce3b3",
   "metadata": {},
   "outputs": [
    {
     "data": {
      "text/plain": [
       "(4689, 180, 180, 3)"
      ]
     },
     "execution_count": 11,
     "metadata": {},
     "output_type": "execute_result"
    }
   ],
   "source": [
    "X_train_scaled.shape"
   ]
  },
  {
   "cell_type": "code",
   "execution_count": 12,
   "id": "0b06ad73",
   "metadata": {},
   "outputs": [],
   "source": [
    "classes_dic_initall = {\n",
    "    'Cargo': 1,\n",
    "    'Military' :2,\n",
    "    'Carrier' :3,\n",
    "    'Cruise' :4,\n",
    "    'Tankers' :5,\n",
    "}\n",
    "\n",
    "classes_dic_final = {\n",
    "    'Cargo' :0,\n",
    "    'Military' :1,\n",
    "    'Carrier' :2,\n",
    "    'Cruise' :3,\n",
    "    'Tankers' :4,\n",
    "}"
   ]
  },
  {
   "cell_type": "code",
   "execution_count": 13,
   "id": "6cb0d3b0",
   "metadata": {},
   "outputs": [
    {
     "data": {
      "text/plain": [
       "array([1, 3, 1, ..., 1, 0, 4], dtype=int64)"
      ]
     },
     "execution_count": 13,
     "metadata": {},
     "output_type": "execute_result"
    }
   ],
   "source": [
    "y_train"
   ]
  },
  {
   "cell_type": "code",
   "execution_count": 14,
   "id": "0c689925",
   "metadata": {},
   "outputs": [
    {
     "name": "stdout",
     "output_type": "stream",
     "text": [
      "Epoch 1/20\n",
      "147/147 [==============================] - 78s 521ms/step - loss: 1.4001 - accuracy: 0.4086\n",
      "Epoch 2/20\n",
      "147/147 [==============================] - 78s 533ms/step - loss: 1.0909 - accuracy: 0.5556\n",
      "Epoch 3/20\n",
      "147/147 [==============================] - 80s 541ms/step - loss: 0.8904 - accuracy: 0.6389\n",
      "Epoch 4/20\n",
      "147/147 [==============================] - 77s 525ms/step - loss: 0.6882 - accuracy: 0.7287\n",
      "Epoch 5/20\n",
      "147/147 [==============================] - 78s 529ms/step - loss: 0.5027 - accuracy: 0.8029\n",
      "Epoch 6/20\n",
      "147/147 [==============================] - 77s 521ms/step - loss: 0.3048 - accuracy: 0.8855\n",
      "Epoch 7/20\n",
      "147/147 [==============================] - 79s 540ms/step - loss: 0.1606 - accuracy: 0.9441\n",
      "Epoch 8/20\n",
      "147/147 [==============================] - 1271s 9s/step - loss: 0.1208 - accuracy: 0.9620\n",
      "Epoch 9/20\n",
      "147/147 [==============================] - 80s 547ms/step - loss: 0.0600 - accuracy: 0.9823\n",
      "Epoch 10/20\n",
      "147/147 [==============================] - 80s 546ms/step - loss: 0.0284 - accuracy: 0.9930\n",
      "Epoch 11/20\n",
      "147/147 [==============================] - 304s 2s/step - loss: 0.0150 - accuracy: 0.9966\n",
      "Epoch 12/20\n",
      "147/147 [==============================] - 80s 545ms/step - loss: 0.0403 - accuracy: 0.9887\n",
      "Epoch 13/20\n",
      "147/147 [==============================] - 80s 547ms/step - loss: 0.0350 - accuracy: 0.9891\n",
      "Epoch 14/20\n",
      "147/147 [==============================] - 80s 545ms/step - loss: 0.0401 - accuracy: 0.9874\n",
      "Epoch 15/20\n",
      "147/147 [==============================] - 1063s 7s/step - loss: 0.0335 - accuracy: 0.9908\n",
      "Epoch 16/20\n",
      "147/147 [==============================] - 80s 545ms/step - loss: 0.0389 - accuracy: 0.9868\n",
      "Epoch 17/20\n",
      "147/147 [==============================] - 74s 504ms/step - loss: 0.0317 - accuracy: 0.9921\n",
      "Epoch 18/20\n",
      "147/147 [==============================] - 81s 550ms/step - loss: 0.0250 - accuracy: 0.9917\n",
      "Epoch 19/20\n",
      "147/147 [==============================] - 80s 547ms/step - loss: 0.0110 - accuracy: 0.9964\n",
      "Epoch 20/20\n",
      "147/147 [==============================] - 672s 5s/step - loss: 0.0076 - accuracy: 0.9983\n"
     ]
    },
    {
     "data": {
      "text/plain": [
       "<keras.callbacks.History at 0x1ce1a0d4e50>"
      ]
     },
     "execution_count": 14,
     "metadata": {},
     "output_type": "execute_result"
    }
   ],
   "source": [
    "num_classes = 5\n",
    "\n",
    "model = Sequential([\n",
    "    layers.Conv2D(16,3,padding = 'same', activation = 'relu'),\n",
    "    layers.MaxPooling2D(),\n",
    "    layers.Conv2D(32,3,padding = 'same', activation = 'relu'),\n",
    "    layers.MaxPooling2D(),\n",
    "    layers.Conv2D(64,3,padding = 'same', activation = 'relu'),\n",
    "    layers.MaxPooling2D(),\n",
    "    layers.Flatten(),\n",
    "    layers.Dense(128, activation = 'relu'),\n",
    "    layers.Dense(num_classes)\n",
    "    \n",
    "])\n",
    "\n",
    "model.compile(\n",
    "    optimizer = 'adam',\n",
    "    loss = tf.keras.losses.SparseCategoricalCrossentropy(from_logits = True),\n",
    "    metrics = ['accuracy']\n",
    ")\n",
    "\n",
    "model.fit(X_train_scaled,y_train,epochs = 20)"
   ]
  },
  {
   "cell_type": "code",
   "execution_count": 15,
   "id": "3d5113e2",
   "metadata": {},
   "outputs": [
    {
     "name": "stdout",
     "output_type": "stream",
     "text": [
      "49/49 [==============================] - 8s 160ms/step - loss: 2.0738 - accuracy: 0.7025\n"
     ]
    },
    {
     "data": {
      "text/plain": [
       "[2.073817729949951, 0.7024952173233032]"
      ]
     },
     "execution_count": 15,
     "metadata": {},
     "output_type": "execute_result"
    }
   ],
   "source": [
    "model.evaluate(X_test_scaled,y_test)"
   ]
  },
  {
   "cell_type": "code",
   "execution_count": 16,
   "id": "534d326d",
   "metadata": {},
   "outputs": [
    {
     "name": "stdout",
     "output_type": "stream",
     "text": [
      "49/49 [==============================] - 8s 152ms/step\n"
     ]
    },
    {
     "data": {
      "text/plain": [
       "array([[ 13.882734  ,  -3.1805816 ,  -8.991473  , -12.34599   ,\n",
       "          3.672355  ],\n",
       "       [  1.4339386 ,   6.04474   , -10.566731  ,   8.26139   ,\n",
       "         -0.12067163],\n",
       "       [ 24.716799  , -21.281843  ,   7.563827  , -14.015277  ,\n",
       "         18.165518  ],\n",
       "       ...,\n",
       "       [ 12.1057415 ,   2.2133005 , -13.063801  ,  -0.4059481 ,\n",
       "          1.8477751 ],\n",
       "       [ -6.935607  ,   4.948262  ,  10.423776  ,   0.47575372,\n",
       "         -8.278896  ],\n",
       "       [  5.0397925 ,   0.2588969 ,  -2.8473098 ,  -4.4378033 ,\n",
       "          4.874734  ]], dtype=float32)"
      ]
     },
     "execution_count": 16,
     "metadata": {},
     "output_type": "execute_result"
    }
   ],
   "source": [
    "predictions = model.predict(X_test_scaled)\n",
    "predictions"
   ]
  },
  {
   "cell_type": "code",
   "execution_count": 17,
   "id": "7cdf7acd",
   "metadata": {},
   "outputs": [
    {
     "data": {
      "text/plain": [
       "0"
      ]
     },
     "execution_count": 17,
     "metadata": {},
     "output_type": "execute_result"
    }
   ],
   "source": [
    "np.argmax(tf.nn.softmax(predictions[5]))"
   ]
  },
  {
   "cell_type": "code",
   "execution_count": 18,
   "id": "86b4dec8",
   "metadata": {},
   "outputs": [
    {
     "data": {
      "text/plain": [
       "0"
      ]
     },
     "execution_count": 18,
     "metadata": {},
     "output_type": "execute_result"
    }
   ],
   "source": [
    "y_test[5]"
   ]
  },
  {
   "cell_type": "code",
   "execution_count": null,
   "id": "f7afa518",
   "metadata": {},
   "outputs": [],
   "source": [
    "# Its Over Fitted"
   ]
  },
  {
   "cell_type": "code",
   "execution_count": 21,
   "id": "0b61c172",
   "metadata": {},
   "outputs": [
    {
     "name": "stdout",
     "output_type": "stream",
     "text": [
      "Epoch 1/10\n",
      "147/147 [==============================] - 48s 319ms/step - loss: 1.4588 - accuracy: 0.3655\n",
      "Epoch 2/10\n",
      "147/147 [==============================] - 46s 316ms/step - loss: 1.1859 - accuracy: 0.4956\n",
      "Epoch 3/10\n",
      "147/147 [==============================] - 47s 321ms/step - loss: 1.0891 - accuracy: 0.5447\n",
      "Epoch 4/10\n",
      "147/147 [==============================] - 51s 344ms/step - loss: 1.0051 - accuracy: 0.5822\n",
      "Epoch 5/10\n",
      "147/147 [==============================] - 55s 377ms/step - loss: 0.9269 - accuracy: 0.6197\n",
      "Epoch 6/10\n",
      "147/147 [==============================] - 63s 428ms/step - loss: 0.8585 - accuracy: 0.6526\n",
      "Epoch 7/10\n",
      "147/147 [==============================] - 66s 452ms/step - loss: 0.8235 - accuracy: 0.6671\n",
      "Epoch 8/10\n",
      "147/147 [==============================] - 66s 451ms/step - loss: 0.7872 - accuracy: 0.6803\n",
      "Epoch 9/10\n",
      "147/147 [==============================] - 67s 457ms/step - loss: 0.7439 - accuracy: 0.6999\n",
      "Epoch 10/10\n",
      "147/147 [==============================] - 68s 460ms/step - loss: 0.7093 - accuracy: 0.7168\n"
     ]
    },
    {
     "data": {
      "text/plain": [
       "<keras.callbacks.History at 0x1cdae076280>"
      ]
     },
     "execution_count": 21,
     "metadata": {},
     "output_type": "execute_result"
    }
   ],
   "source": [
    "num_classes = 5\n",
    "\n",
    "img_height = 180\n",
    "img_width = 180\n",
    "\n",
    "model_augmented = Sequential([\n",
    "    # data_augmentation,\n",
    "    layers.experimental.preprocessing.RandomFlip('horizontal',input_shape = (img_height,img_width,3)),\n",
    "    layers.experimental.preprocessing.RandomRotation(0.1),\n",
    "    layers.experimental.preprocessing.RandomZoom(0.1),\n",
    "    \n",
    "    layers.Conv2D(16,3,padding = 'same', activation = 'relu'),\n",
    "    layers.MaxPooling2D(),\n",
    "    layers.Conv2D(32,3,padding = 'same', activation = 'relu'),\n",
    "    layers.MaxPooling2D(),\n",
    "    layers.Conv2D(64,3,padding = 'same', activation = 'relu'),\n",
    "    layers.MaxPooling2D(),\n",
    "    layers.Dropout(0.2),\n",
    "    layers.Flatten(),\n",
    "    layers.Dense(128, activation = 'relu'),\n",
    "    layers.Dense(num_classes)\n",
    "    \n",
    "])\n",
    "\n",
    "model_augmented.compile(\n",
    "    optimizer = 'adam',\n",
    "    loss = tf.keras.losses.SparseCategoricalCrossentropy(from_logits = True),\n",
    "    metrics = ['accuracy']\n",
    ")\n",
    "\n",
    "model_augmented.fit(X_train_scaled,y_train,epochs = 10)"
   ]
  },
  {
   "cell_type": "code",
   "execution_count": 22,
   "id": "99787e82",
   "metadata": {},
   "outputs": [
    {
     "name": "stdout",
     "output_type": "stream",
     "text": [
      "49/49 [==============================] - 6s 120ms/step - loss: 0.7834 - accuracy: 0.7063\n"
     ]
    },
    {
     "data": {
      "text/plain": [
       "[0.7834142446517944, 0.7063339948654175]"
      ]
     },
     "execution_count": 22,
     "metadata": {},
     "output_type": "execute_result"
    }
   ],
   "source": [
    "model_augmented.evaluate(X_test_scaled,y_test)"
   ]
  },
  {
   "cell_type": "code",
   "execution_count": 23,
   "id": "e15006fe",
   "metadata": {},
   "outputs": [
    {
     "name": "stdout",
     "output_type": "stream",
     "text": [
      "Epoch 1/15\n",
      "147/147 [==============================] - 49s 318ms/step - loss: 1.4452 - accuracy: 0.3835\n",
      "Epoch 2/15\n",
      "147/147 [==============================] - 47s 318ms/step - loss: 1.2050 - accuracy: 0.4967\n",
      "Epoch 3/15\n",
      "147/147 [==============================] - 47s 320ms/step - loss: 1.0543 - accuracy: 0.5605\n",
      "Epoch 4/15\n",
      "147/147 [==============================] - 50s 343ms/step - loss: 0.9644 - accuracy: 0.6065\n",
      "Epoch 5/15\n",
      "147/147 [==============================] - 53s 364ms/step - loss: 0.8835 - accuracy: 0.6353\n",
      "Epoch 6/15\n",
      "147/147 [==============================] - 63s 431ms/step - loss: 0.8237 - accuracy: 0.6737\n",
      "Epoch 7/15\n",
      "147/147 [==============================] - 68s 462ms/step - loss: 0.7648 - accuracy: 0.6980\n",
      "Epoch 8/15\n",
      "147/147 [==============================] - 68s 466ms/step - loss: 0.7502 - accuracy: 0.6980\n",
      "Epoch 9/15\n",
      "147/147 [==============================] - 69s 470ms/step - loss: 0.6973 - accuracy: 0.7174\n",
      "Epoch 10/15\n",
      "147/147 [==============================] - 70s 477ms/step - loss: 0.6769 - accuracy: 0.7285\n",
      "Epoch 11/15\n",
      "147/147 [==============================] - 72s 486ms/step - loss: 0.6567 - accuracy: 0.7366\n",
      "Epoch 12/15\n",
      "147/147 [==============================] - 53s 361ms/step - loss: 0.6240 - accuracy: 0.7507\n",
      "Epoch 13/15\n",
      "147/147 [==============================] - 48s 326ms/step - loss: 0.6038 - accuracy: 0.7603\n",
      "Epoch 14/15\n",
      "147/147 [==============================] - 48s 324ms/step - loss: 0.5812 - accuracy: 0.7673\n",
      "Epoch 15/15\n",
      "147/147 [==============================] - 48s 329ms/step - loss: 0.5751 - accuracy: 0.7701\n"
     ]
    },
    {
     "data": {
      "text/plain": [
       "<keras.callbacks.History at 0x1cdaf487400>"
      ]
     },
     "execution_count": 23,
     "metadata": {},
     "output_type": "execute_result"
    }
   ],
   "source": [
    "num_classes = 5\n",
    "\n",
    "img_height = 180\n",
    "img_width = 180\n",
    "\n",
    "model_augmented = Sequential([\n",
    "    # data_augmentation,\n",
    "    layers.experimental.preprocessing.RandomFlip('horizontal',input_shape = (img_height,img_width,3)),\n",
    "    layers.experimental.preprocessing.RandomRotation(0.1),\n",
    "    layers.experimental.preprocessing.RandomZoom(0.1),\n",
    "    \n",
    "    layers.Conv2D(16,3,padding = 'same', activation = 'relu'),\n",
    "    layers.MaxPooling2D(),\n",
    "    layers.Conv2D(32,3,padding = 'same', activation = 'relu'),\n",
    "    layers.MaxPooling2D(),\n",
    "    layers.Conv2D(64,3,padding = 'same', activation = 'relu'),\n",
    "    layers.MaxPooling2D(),\n",
    "    layers.Dropout(0.2),\n",
    "    layers.Flatten(),\n",
    "    layers.Dense(128, activation = 'relu'),\n",
    "    layers.Dense(num_classes)\n",
    "    \n",
    "])\n",
    "\n",
    "model_augmented.compile(\n",
    "    optimizer = 'adam',\n",
    "    loss = tf.keras.losses.SparseCategoricalCrossentropy(from_logits = True),\n",
    "    metrics = ['accuracy']\n",
    ")\n",
    "\n",
    "model_augmented.fit(X_train_scaled,y_train,epochs = 15)"
   ]
  },
  {
   "cell_type": "code",
   "execution_count": 24,
   "id": "9d8566dd",
   "metadata": {},
   "outputs": [
    {
     "name": "stdout",
     "output_type": "stream",
     "text": [
      "49/49 [==============================] - 4s 78ms/step - loss: 0.7694 - accuracy: 0.7108\n"
     ]
    },
    {
     "data": {
      "text/plain": [
       "[0.7694252729415894, 0.7108125686645508]"
      ]
     },
     "execution_count": 24,
     "metadata": {},
     "output_type": "execute_result"
    }
   ],
   "source": [
    "model_augmented.evaluate(X_test_scaled,y_test)"
   ]
  },
  {
   "cell_type": "code",
   "execution_count": null,
   "id": "66a19323",
   "metadata": {},
   "outputs": [],
   "source": []
  }
 ],
 "metadata": {
  "kernelspec": {
   "display_name": "Python 3 (ipykernel)",
   "language": "python",
   "name": "python3"
  },
  "language_info": {
   "codemirror_mode": {
    "name": "ipython",
    "version": 3
   },
   "file_extension": ".py",
   "mimetype": "text/x-python",
   "name": "python",
   "nbconvert_exporter": "python",
   "pygments_lexer": "ipython3",
   "version": "3.9.12"
  }
 },
 "nbformat": 4,
 "nbformat_minor": 5
}
